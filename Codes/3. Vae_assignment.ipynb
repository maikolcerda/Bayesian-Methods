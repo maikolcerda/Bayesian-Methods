{
  "nbformat": 4,
  "nbformat_minor": 0,
  "metadata": {
    "colab": {
      "name": "Vae_assignment.ipynb",
      "provenance": [],
      "collapsed_sections": []
    },
    "kernelspec": {
      "name": "python3",
      "display_name": "Python 3"
    },
    "accelerator": "GPU"
  },
  "cells": [
    {
      "cell_type": "markdown",
      "metadata": {
        "id": "G233yNiDOnLp",
        "colab_type": "text"
      },
      "source": [
        "# First things first\n",
        "* Click **File -> Save a copy in Drive** and click **Open in new tab** in the pop-up window to save your progress in Google Drive.\n",
        "* Click **Runtime -> Change runtime type** and select **GPU** in Hardware accelerator box to enable faster GPU training."
      ]
    },
    {
      "cell_type": "markdown",
      "metadata": {
        "id": "74KEu1L8OnLq",
        "colab_type": "text"
      },
      "source": [
        "# Variational Autoencoder"
      ]
    },
    {
      "cell_type": "markdown",
      "metadata": {
        "id": "r94_BRA-OnLr",
        "colab_type": "text"
      },
      "source": [
        "In this assignment, you will build Variational Autoencoder, train it on the MNIST dataset, and play with its architecture and hyperparameters."
      ]
    },
    {
      "cell_type": "markdown",
      "metadata": {
        "id": "LyLQLqBcOnLt",
        "colab_type": "text"
      },
      "source": [
        "### Setup\n",
        "Loading auxiliary files and importing the necessary libraries."
      ]
    },
    {
      "cell_type": "code",
      "metadata": {
        "id": "naC94KtXOnLt",
        "colab_type": "code",
        "colab": {
          "base_uri": "https://localhost:8080/",
          "height": 281
        },
        "outputId": "014b8146-418a-43af-c1f5-1bf40c34bef0"
      },
      "source": [
        "try:\n",
        "    import google.colab\n",
        "    IN_COLAB = True\n",
        "except:\n",
        "    IN_COLAB = False\n",
        "if IN_COLAB:\n",
        "    print(\"Downloading Colab files\")\n",
        "    ! shred -u setup_google_colab.py\n",
        "    ! wget https://raw.githubusercontent.com/hse-aml/bayesian-methods-for-ml/master/setup_google_colab.py -O setup_google_colab.py\n",
        "    import setup_google_colab\n",
        "    setup_google_colab.load_data_week5()"
      ],
      "execution_count": 1,
      "outputs": [
        {
          "output_type": "stream",
          "text": [
            "Downloading Colab files\n",
            "shred: setup_google_colab.py: failed to open for writing: No such file or directory\n",
            "--2019-12-24 17:21:28--  https://raw.githubusercontent.com/hse-aml/bayesian-methods-for-ml/master/setup_google_colab.py\n",
            "Resolving raw.githubusercontent.com (raw.githubusercontent.com)... 151.101.0.133, 151.101.64.133, 151.101.128.133, ...\n",
            "Connecting to raw.githubusercontent.com (raw.githubusercontent.com)|151.101.0.133|:443... connected.\n",
            "HTTP request sent, awaiting response... 200 OK\n",
            "Length: 1254 (1.2K) [text/plain]\n",
            "Saving to: ‘setup_google_colab.py’\n",
            "\n",
            "setup_google_colab. 100%[===================>]   1.22K  --.-KB/s    in 0s      \n",
            "\n",
            "2019-12-24 17:21:28 (87.1 MB/s) - ‘setup_google_colab.py’ saved [1254/1254]\n",
            "\n",
            "https://raw.githubusercontent.com/hse-aml/bayesian-methods-for-ml/master/week5/w5_grader.py w5_grader.py\n",
            "https://raw.githubusercontent.com/hse-aml/bayesian-methods-for-ml/master/week5/test_data.npz test_data.npz\n"
          ],
          "name": "stdout"
        }
      ]
    },
    {
      "cell_type": "code",
      "metadata": {
        "id": "H-hJ6_wBOnLz",
        "colab_type": "code",
        "colab": {
          "base_uri": "https://localhost:8080/",
          "height": 81
        },
        "outputId": "f4397136-d520-4a36-9c85-dbae56464a3a"
      },
      "source": [
        "import tensorflow as tf\n",
        "import keras\n",
        "import numpy as np\n",
        "import matplotlib.pyplot as plt\n",
        "\n",
        "from keras.layers import Input, Dense, Lambda, InputLayer, concatenate\n",
        "from keras.models import Model, Sequential\n",
        "from keras import backend as K\n",
        "from keras import metrics\n",
        "from keras.datasets import mnist\n",
        "from keras.utils import np_utils\n",
        "from w5_grader import VAEGrader"
      ],
      "execution_count": 2,
      "outputs": [
        {
          "output_type": "display_data",
          "data": {
            "text/html": [
              "<p style=\"color: red;\">\n",
              "The default version of TensorFlow in Colab will soon switch to TensorFlow 2.x.<br>\n",
              "We recommend you <a href=\"https://www.tensorflow.org/guide/migrate\" target=\"_blank\">upgrade</a> now \n",
              "or ensure your notebook will continue to use TensorFlow 1.x via the <code>%tensorflow_version 1.x</code> magic:\n",
              "<a href=\"https://colab.research.google.com/notebooks/tensorflow_version.ipynb\" target=\"_blank\">more info</a>.</p>\n"
            ],
            "text/plain": [
              "<IPython.core.display.HTML object>"
            ]
          },
          "metadata": {
            "tags": []
          }
        },
        {
          "output_type": "stream",
          "text": [
            "Using TensorFlow backend.\n"
          ],
          "name": "stderr"
        }
      ]
    },
    {
      "cell_type": "markdown",
      "metadata": {
        "id": "KyZf9DsOOnL2",
        "colab_type": "text"
      },
      "source": [
        "### Grading\n",
        "We will create a grader instance below and use it to collect your answers. Note that these outputs will be stored locally inside grader and will be uploaded to the platform only after running submit function in the last part of this assignment. If you want to make a partial submission, you can run that cell anytime you want."
      ]
    },
    {
      "cell_type": "code",
      "metadata": {
        "id": "V5D7sEDBOnL3",
        "colab_type": "code",
        "colab": {}
      },
      "source": [
        "grader = VAEGrader()"
      ],
      "execution_count": 0,
      "outputs": []
    },
    {
      "cell_type": "markdown",
      "metadata": {
        "id": "RnkOQUeSOnL5",
        "colab_type": "text"
      },
      "source": [
        "### Variational Autoencoder"
      ]
    },
    {
      "cell_type": "markdown",
      "metadata": {
        "id": "GmV9OxiIOnL7",
        "colab_type": "text"
      },
      "source": [
        "Recall that Variational Autoencoder is a probabilistic model of data based on a continious mixture of distributions. In the lecture we covered the mixture of gaussians case, but here we will apply VAE to binary MNIST images (each pixel is either black or white). To better model binary data we will use a continuous mixture of binomial distributions: $p(x \\mid w) = \\int p(x \\mid t, w) p(t) dt$, where the prior distribution on the latent code $t$ is standard normal $p(t) = \\mathcal{N}(0, I)$, but probability that $(i, j)$-th pixel is black equals to $(i, j)$-th output of the decoder neural detwork: $p(x_{i, j} \\mid t, w) = \\text{decoder}(t, w)_{i, j}$.\n",
        "\n",
        "To train this model we would like to maximize marginal log-likelihood of our dataset $\\max_w \\log p(X \\mid w)$, but it's very hard to do computationally, so instead we maximize the Variational Lower Bound w.r.t. both the original parameters $w$ and variational distribution $q$ which we define as encoder neural network with parameters $\\phi$ which takes input image $x$ and outputs parameters of the gaussian distribution $q(t \\mid x, \\phi)$: $\\log p(X \\mid w) \\geq \\mathcal{L}(w, \\phi) \\rightarrow \\max_{w, \\phi}$.\n",
        "\n",
        "So overall our model looks as follows: encoder takes an image $x$, produces a distribution over latent codes $q(t \\mid x)$ which should approximate the posterior distribution $p(t \\mid x)$ (at least after training), samples a point from this distribution $\\widehat{t} \\sim q(t \\mid x, \\phi)$, and finally feeds it into a decoder that outputs a distribution over images.\n",
        "\n",
        "![](https://github.com/hse-aml/bayesian-methods-for-ml/blob/master/week5/VAE.png?raw=1)\n",
        "\n",
        "In the lecture, we also discussed that variational lower bound has an expected value inside which we are going to approximate with sampling. But it is not trivial since we need to differentiate through this approximation. However, we learned about _reparametrization trick_ which suggests instead of sampling from distribution $\\widehat{t} \\sim q(t \\mid x, \\phi)$ sample from a distribution which doesn't depend on any parameters, e.g. standard normal, and then deterministically transform this sample to the desired one: $\\varepsilon \\sim \\mathcal{N}(0, I); ~~\\widehat{t} = m(x, \\phi) + \\varepsilon \\sigma(x, \\phi)$. This way we don't have to worry about our stochastic gradient being biased and can straightforwardly differentiate our loss w.r.t. all the parameters while treating the current sample $\\varepsilon$ as constant.\n",
        "\n",
        "\n"
      ]
    },
    {
      "cell_type": "markdown",
      "metadata": {
        "id": "fVszOw7ROnL8",
        "colab_type": "text"
      },
      "source": [
        "### Negative Variational Lower Bound"
      ]
    },
    {
      "cell_type": "markdown",
      "metadata": {
        "id": "aRMMKLiGOnL9",
        "colab_type": "text"
      },
      "source": [
        "**Task 1** Derive and implement Variational Lower Bound for the continuous mixture of Binomial distributions.\n",
        "\n",
        "**Note** that in lectures we discussed maximizing the VLB (which is typically a negative number), but in this assignment, for convenience, we will **minimize** the **negated** version of VLB (which will be a positive number) instead of maximizing the usual VLB. In what follows we always talk about _negated_ VLB, even when we use the term VLB for short.\n",
        "\n",
        "**Also note** that to pass the test, your code should work with any mini-batch size.\n",
        "\n",
        "To do that, we need a stochastic estimate of VLB: \n",
        "$$\\text{VLB} = \\sum_{i=1}^N \\text{VLB}_i \\approx \\frac{N}{M}\\sum_{i_s}^M \\text{VLB}_{i_s}$$\n",
        "where $N$ is the dataset size, $\\text{VLB}_i$ is the term of VLB corresponding to the $i$-th object, and $M$ is the mini-batch size. But instead of this stochastic estimate of the full VLB we will use an estimate of the negated VLB normalized by the dataset size, i.e. in the function below you need to return average across the mini-batch $-\\frac{1}{M}\\sum_{i_s}^M \\text{VLB}_{i_s}$. People usually optimize this normalized version of VLB since it doesn't depend on the dataset set - you can write VLB function once and use it for different datasets - the dataset size won't affect the learning rate too much. The correct value for this normalized negated VLB should be around $100 - 170$ in the example below."
      ]
    },
    {
      "cell_type": "code",
      "metadata": {
        "id": "OwynsmjaOnL-",
        "colab_type": "code",
        "colab": {}
      },
      "source": [
        "def vlb_binomial(x, x_decoded_mean, t_mean, t_log_var):\n",
        "    \"\"\"Returns the value of negative Variational Lower Bound\n",
        "    \n",
        "    The inputs are tf.Tensor\n",
        "        x: (batch_size x number_of_pixels) matrix with one image per row with zeros and ones\n",
        "        x_decoded_mean: (batch_size x number_of_pixels) mean of the distribution p(x | t), real numbers from 0 to 1\n",
        "        t_mean: (batch_size x latent_dim) mean vector of the (normal) distribution q(t | x)\n",
        "        t_log_var: (batch_size x latent_dim) logarithm of the variance vector of the (normal) distribution q(t | x)\n",
        "    \n",
        "    Returns:\n",
        "        A tf.Tensor with one element (averaged across the batch), VLB\n",
        "    \"\"\"\n",
        "    ### YOUR CODE HERE\n",
        "    kl= 0.5 * K.sum(K.exp(t_log_var) + K.square(t_mean) - 1.0 - t_log_var, axis=1)\n",
        "    rec_loss = K.sum(K.binary_crossentropy(x, x_decoded_mean), axis=1)\n",
        "\n",
        "    neg_variational_lower_bound=K.mean(kl+rec_loss)\n",
        "    return neg_variational_lower_bound"
      ],
      "execution_count": 0,
      "outputs": []
    },
    {
      "cell_type": "code",
      "metadata": {
        "id": "dpZjbDz0OnMA",
        "colab_type": "code",
        "colab": {}
      },
      "source": [
        "# Start tf session so we can run code.\n",
        "sess = tf.InteractiveSession()\n",
        "# Connect keras to the created session.\n",
        "K.set_session(sess)"
      ],
      "execution_count": 0,
      "outputs": []
    },
    {
      "cell_type": "code",
      "metadata": {
        "id": "sJoWFRnDOnMF",
        "colab_type": "code",
        "colab": {
          "base_uri": "https://localhost:8080/",
          "height": 213
        },
        "outputId": "2b80bd4a-c032-4992-b045-2747619f1ed0"
      },
      "source": [
        "grader.submit_vlb(sess, vlb_binomial)"
      ],
      "execution_count": 6,
      "outputs": [
        {
          "output_type": "stream",
          "text": [
            "WARNING:tensorflow:From /usr/local/lib/python3.6/dist-packages/keras/backend/tensorflow_backend.py:66: The name tf.get_default_graph is deprecated. Please use tf.compat.v1.get_default_graph instead.\n",
            "\n",
            "WARNING:tensorflow:From /usr/local/lib/python3.6/dist-packages/keras/backend/tensorflow_backend.py:541: The name tf.placeholder is deprecated. Please use tf.compat.v1.placeholder instead.\n",
            "\n",
            "WARNING:tensorflow:From /usr/local/lib/python3.6/dist-packages/keras/backend/tensorflow_backend.py:3657: The name tf.log is deprecated. Please use tf.math.log instead.\n",
            "\n",
            "WARNING:tensorflow:From /usr/local/lib/python3.6/dist-packages/tensorflow_core/python/ops/nn_impl.py:183: where (from tensorflow.python.ops.array_ops) is deprecated and will be removed in a future version.\n",
            "Instructions for updating:\n",
            "Use tf.where in 2.0, which has the same broadcast rule as np.where\n",
            "Current answer for task 1 (vlb) is: 157.59676\n"
          ],
          "name": "stdout"
        }
      ]
    },
    {
      "cell_type": "markdown",
      "metadata": {
        "id": "JIajOY9bOnMK",
        "colab_type": "text"
      },
      "source": [
        "## Encoder / decoder definition"
      ]
    },
    {
      "cell_type": "markdown",
      "metadata": {
        "id": "agpMFTzKOnML",
        "colab_type": "text"
      },
      "source": [
        "**Task 2** Read the code below that defines encoder and decoder networks and implement sampling with reparametrization trick in the provided space."
      ]
    },
    {
      "cell_type": "code",
      "metadata": {
        "id": "uY_dcGHmOnML",
        "colab_type": "code",
        "colab": {}
      },
      "source": [
        "batch_size = 100\n",
        "original_dim = 784 # Number of pixels in MNIST images.\n",
        "latent_dim = 50 # d, dimensionality of the latent code t.\n",
        "intermediate_dim = 256 # Size of the hidden layer.\n",
        "epochs = 30\n",
        "\n",
        "x = Input(batch_shape=(batch_size, original_dim))\n",
        "def create_encoder(input_dim):\n",
        "    # Encoder network.\n",
        "    # We instantiate these layers separately so as to reuse them later\n",
        "    encoder = Sequential(name='encoder')\n",
        "    encoder.add(InputLayer([input_dim]))\n",
        "    encoder.add(Dense(intermediate_dim, activation='relu'))\n",
        "    encoder.add(Dense(2 * latent_dim))\n",
        "    return encoder\n",
        "encoder = create_encoder(original_dim)\n",
        "\n",
        "get_t_mean = Lambda(lambda h: h[:, :latent_dim])\n",
        "get_t_log_var = Lambda(lambda h: h[:, latent_dim:])\n",
        "h = encoder(x)\n",
        "t_mean = get_t_mean(h)\n",
        "t_log_var = get_t_log_var(h)\n",
        "\n",
        "# Sampling from the distribution \n",
        "#     q(t | x) = N(t_mean, exp(t_log_var))\n",
        "# with reparametrization trick.\n",
        "def sampling(args):\n",
        "    \"\"\"Returns sample from a distribution N(args[0], diag(args[1]))\n",
        "    \n",
        "    The sample should be computed with reparametrization trick.\n",
        "    \n",
        "    The inputs are tf.Tensor\n",
        "        args[0]: (batch_size x latent_dim) mean of the desired distribution\n",
        "        args[1]: (batch_size x latent_dim) logarithm of the variance vector of the desired distribution\n",
        "    \n",
        "    Returns:\n",
        "        A tf.Tensor of size (batch_size x latent_dim), the samples.\n",
        "    \"\"\"\n",
        "    t_mean, t_log_var = args\n",
        "    # YOUR CODE HERE\n",
        "    epsilon = tf.random_normal(t_mean.shape)\n",
        "    z=  t_mean + epsilon * tf.exp(0.5 * t_log_var)\n",
        "    return z\n",
        "\n",
        "t = Lambda(sampling)([t_mean, t_log_var])\n",
        "\n",
        "def create_decoder(input_dim):\n",
        "    # Decoder network\n",
        "    # We instantiate these layers separately so as to reuse them later\n",
        "    decoder = Sequential(name='decoder')\n",
        "    decoder.add(InputLayer([input_dim]))\n",
        "    decoder.add(Dense(intermediate_dim, activation='relu'))\n",
        "    decoder.add(Dense(original_dim, activation='sigmoid'))\n",
        "    return decoder\n",
        "decoder = create_decoder(latent_dim)\n",
        "x_decoded_mean = decoder(t)"
      ],
      "execution_count": 0,
      "outputs": []
    },
    {
      "cell_type": "code",
      "metadata": {
        "id": "YXhY1G7POnMN",
        "colab_type": "code",
        "colab": {
          "base_uri": "https://localhost:8080/",
          "height": 52
        },
        "outputId": "41947543-a214-4a42-cb32-fa71de7157c0"
      },
      "source": [
        "grader.submit_samples(sess, sampling)"
      ],
      "execution_count": 44,
      "outputs": [
        {
          "output_type": "stream",
          "text": [
            "Current answer for task 2.1 (samples mean) is: -0.1218433\n",
            "Current answer for task 2.2 (samples var) is: 0.03733801\n"
          ],
          "name": "stdout"
        }
      ]
    },
    {
      "cell_type": "markdown",
      "metadata": {
        "id": "nktDqnapOnMS",
        "colab_type": "text"
      },
      "source": [
        "## Training the model"
      ]
    },
    {
      "cell_type": "markdown",
      "metadata": {
        "id": "Bcs69AvMOnMT",
        "colab_type": "text"
      },
      "source": [
        "**Task 3** Run the cells below to train the model with the default settings. Modify the parameters to get better results. Especially pay attention to the encoder/decoder architectures (e.g. using more layers, maybe making them convolutional), learning rate, and the number of epochs."
      ]
    },
    {
      "cell_type": "code",
      "metadata": {
        "id": "ZC2LPovUOnMU",
        "colab_type": "code",
        "colab": {}
      },
      "source": [
        "loss = vlb_binomial(x, x_decoded_mean, t_mean, t_log_var)\n",
        "vae = Model(x, x_decoded_mean)\n",
        "# Keras will provide input (x) and output (x_decoded_mean) to the function that\n",
        "# should construct loss, but since our function also depends on other\n",
        "# things (e.g. t_means), it is easier to build the loss in advance and pass\n",
        "# a function that always returns it.\n",
        "vae.compile(optimizer=keras.optimizers.RMSprop(lr=0.001), loss=lambda x, y: loss)"
      ],
      "execution_count": 0,
      "outputs": []
    },
    {
      "cell_type": "markdown",
      "metadata": {
        "id": "SVJQG9l4OnMY",
        "colab_type": "text"
      },
      "source": [
        "#### Load and prepare the data"
      ]
    },
    {
      "cell_type": "code",
      "metadata": {
        "id": "AS79kH0VOnMZ",
        "colab_type": "code",
        "colab": {}
      },
      "source": [
        "# train the VAE on MNIST digits\n",
        "(x_train, y_train), (x_test, y_test) = mnist.load_data()\n",
        "# One hot encoding.\n",
        "y_train = np_utils.to_categorical(y_train)\n",
        "y_test = np_utils.to_categorical(y_test)\n",
        "\n",
        "x_train = x_train.astype('float32') / 255.\n",
        "x_test = x_test.astype('float32') / 255.\n",
        "x_train = x_train.reshape((len(x_train), np.prod(x_train.shape[1:])))\n",
        "x_test = x_test.reshape((len(x_test), np.prod(x_test.shape[1:])))"
      ],
      "execution_count": 0,
      "outputs": []
    },
    {
      "cell_type": "markdown",
      "metadata": {
        "id": "EnWfL2xrOnMb",
        "colab_type": "text"
      },
      "source": [
        "#### Train the model"
      ]
    },
    {
      "cell_type": "code",
      "metadata": {
        "id": "J_-zXvnpOnMc",
        "colab_type": "code",
        "colab": {
          "base_uri": "https://localhost:8080/",
          "height": 1000
        },
        "outputId": "e6590d06-cac0-4e60-bc77-981a68857c86"
      },
      "source": [
        "hist = vae.fit(x=x_train, y=x_train,\n",
        "               shuffle=True,\n",
        "               epochs=epochs,\n",
        "               batch_size=batch_size,\n",
        "               validation_data=(x_test, x_test),\n",
        "               verbose=2)"
      ],
      "execution_count": 47,
      "outputs": [
        {
          "output_type": "stream",
          "text": [
            "Train on 60000 samples, validate on 10000 samples\n",
            "Epoch 1/30\n",
            " - 2s - loss: 160.8673 - val_loss: 135.7573\n",
            "Epoch 2/30\n",
            " - 2s - loss: 129.2268 - val_loss: 124.4343\n",
            "Epoch 3/30\n",
            " - 2s - loss: 121.0878 - val_loss: 116.9380\n",
            "Epoch 4/30\n",
            " - 2s - loss: 116.5271 - val_loss: 114.6071\n",
            "Epoch 5/30\n",
            " - 2s - loss: 113.7281 - val_loss: 112.0951\n",
            "Epoch 6/30\n",
            " - 2s - loss: 112.0380 - val_loss: 110.5021\n",
            "Epoch 7/30\n",
            " - 2s - loss: 110.8393 - val_loss: 109.9765\n",
            "Epoch 8/30\n",
            " - 2s - loss: 110.0041 - val_loss: 108.5197\n",
            "Epoch 9/30\n",
            " - 2s - loss: 109.3624 - val_loss: 108.1680\n",
            "Epoch 10/30\n",
            " - 2s - loss: 108.9252 - val_loss: 107.5878\n",
            "Epoch 11/30\n",
            " - 2s - loss: 108.4825 - val_loss: 107.2603\n",
            "Epoch 12/30\n",
            " - 2s - loss: 108.1109 - val_loss: 107.6663\n",
            "Epoch 13/30\n",
            " - 2s - loss: 107.8174 - val_loss: 106.9918\n",
            "Epoch 14/30\n",
            " - 2s - loss: 107.5718 - val_loss: 106.9963\n",
            "Epoch 15/30\n",
            " - 2s - loss: 107.3624 - val_loss: 106.8162\n",
            "Epoch 16/30\n",
            " - 2s - loss: 107.1524 - val_loss: 106.6112\n",
            "Epoch 17/30\n",
            " - 2s - loss: 106.9388 - val_loss: 105.8464\n",
            "Epoch 18/30\n",
            " - 2s - loss: 106.7897 - val_loss: 105.9475\n",
            "Epoch 19/30\n",
            " - 2s - loss: 106.6645 - val_loss: 105.9650\n",
            "Epoch 20/30\n",
            " - 2s - loss: 106.4966 - val_loss: 105.6449\n",
            "Epoch 21/30\n",
            " - 2s - loss: 106.3925 - val_loss: 105.6977\n",
            "Epoch 22/30\n",
            " - 2s - loss: 106.2716 - val_loss: 105.9905\n",
            "Epoch 23/30\n",
            " - 2s - loss: 106.1382 - val_loss: 106.0021\n",
            "Epoch 24/30\n",
            " - 2s - loss: 106.0600 - val_loss: 106.1178\n",
            "Epoch 25/30\n",
            " - 2s - loss: 106.0064 - val_loss: 105.2199\n",
            "Epoch 26/30\n",
            " - 2s - loss: 105.8698 - val_loss: 105.1513\n",
            "Epoch 27/30\n",
            " - 2s - loss: 105.7759 - val_loss: 105.3785\n",
            "Epoch 28/30\n",
            " - 2s - loss: 105.7041 - val_loss: 105.7617\n",
            "Epoch 29/30\n",
            " - 2s - loss: 105.6247 - val_loss: 105.2826\n",
            "Epoch 30/30\n",
            " - 2s - loss: 105.5533 - val_loss: 104.8993\n"
          ],
          "name": "stdout"
        }
      ]
    },
    {
      "cell_type": "markdown",
      "metadata": {
        "id": "FdjnEbpkOnMf",
        "colab_type": "text"
      },
      "source": [
        "### Visualize reconstructions for train and validation data\n",
        "In the picture below you can see the reconstruction ability of your network on training and validation data. In each of the two images, the left column is MNIST images and the right column is the corresponding image after passing through autoencoder (or more precisely the mean of the binomial distribution over the output images).\n",
        "\n",
        "Note that getting the best possible reconstruction is not the point of VAE, the KL term of the objective specifically hurts the reconstruction performance. But the reconstruction should be anyway reasonable and they provide a visual debugging tool."
      ]
    },
    {
      "cell_type": "code",
      "metadata": {
        "id": "sDAjZV_kOnMf",
        "colab_type": "code",
        "colab": {
          "base_uri": "https://localhost:8080/",
          "height": 591
        },
        "outputId": "39c890c9-866f-4003-f33f-1fc78d41d8ff"
      },
      "source": [
        "fig = plt.figure(figsize=(10, 10))\n",
        "for fid_idx, (data, title) in enumerate(\n",
        "            zip([x_train, x_test], ['Train', 'Validation'])):\n",
        "    n = 10  # figure with 10 x 2 digits\n",
        "    digit_size = 28\n",
        "    figure = np.zeros((digit_size * n, digit_size * 2))\n",
        "    decoded = sess.run(x_decoded_mean, feed_dict={x: data[:batch_size, :]})\n",
        "    for i in range(10):\n",
        "        figure[i * digit_size: (i + 1) * digit_size,\n",
        "               :digit_size] = data[i, :].reshape(digit_size, digit_size)\n",
        "        figure[i * digit_size: (i + 1) * digit_size,\n",
        "               digit_size:] = decoded[i, :].reshape(digit_size, digit_size)\n",
        "    ax = fig.add_subplot(1, 2, fid_idx + 1)\n",
        "    ax.imshow(figure, cmap='Greys_r')\n",
        "    ax.set_title(title)\n",
        "    ax.axis('off')\n",
        "plt.show()"
      ],
      "execution_count": 48,
      "outputs": [
        {
          "output_type": "display_data",
          "data": {
            "image/png": "[encoded data removed]",
            "text/plain": [
              "<Figure size 720x720 with 2 Axes>"
            ]
          },
          "metadata": {
            "tags": []
          }
        }
      ]
    },
    {
      "cell_type": "markdown",
      "metadata": {
        "collapsed": true,
        "id": "95lpEe2cOnMi",
        "colab_type": "text"
      },
      "source": [
        "### Sending the results of your best model as Task 3 submission"
      ]
    },
    {
      "cell_type": "code",
      "metadata": {
        "id": "KudUfupuOnMi",
        "colab_type": "code",
        "colab": {
          "base_uri": "https://localhost:8080/",
          "height": 34
        },
        "outputId": "e338f174-4f84-4c30-ec85-50ea6d3db75e"
      },
      "source": [
        "grader.submit_best_val_loss(hist)"
      ],
      "execution_count": 49,
      "outputs": [
        {
          "output_type": "stream",
          "text": [
            "Current answer for task 3 (best val loss) is: 104.89932495117188\n"
          ],
          "name": "stdout"
        }
      ]
    },
    {
      "cell_type": "markdown",
      "metadata": {
        "id": "WEclzA3WOnMk",
        "colab_type": "text"
      },
      "source": [
        "## Hallucinating new data\n",
        "**Task 4** Write code to generate new samples of images from your trained VAE. To do that you have to sample from the prior distribution $p(t)$ and then from the likelihood $p(x \\mid t)$.\n",
        "\n",
        "**Note** that the sampling you've written in Task 2 was for the variational distribution $q(t \\mid x)$, while here you need to sample from the prior."
      ]
    },
    {
      "cell_type": "code",
      "metadata": {
        "id": "jGLqzZD4OnMm",
        "colab_type": "code",
        "colab": {}
      },
      "source": [
        "n_samples = 10  # To pass automatic grading please use at least 2 samples here.\n",
        "# YOUR CODE HERE.\n",
        "z=tf.random_normal((n_samples , latent_dim))\n",
        "# sampled_im_mean is a tf.Tensor of size 10 x 784 with 10 random\n",
        "# images sampled from the vae model.\n",
        "sampled_im_mean = decoder(z)"
      ],
      "execution_count": 0,
      "outputs": []
    },
    {
      "cell_type": "code",
      "metadata": {
        "id": "1Lzh_yW0OnMo",
        "colab_type": "code",
        "colab": {
          "base_uri": "https://localhost:8080/",
          "height": 165
        },
        "outputId": "caeb7376-7306-4da8-9ecd-d884fbb85e25"
      },
      "source": [
        "sampled_im_mean_np = sess.run(sampled_im_mean)\n",
        "# Show the sampled images.\n",
        "plt.figure()\n",
        "for i in range(n_samples):\n",
        "    ax = plt.subplot(n_samples // 5 + 1, 5, i + 1)\n",
        "    plt.imshow(sampled_im_mean_np[i, :].reshape(28, 28), cmap='gray')\n",
        "    ax.axis('off')\n",
        "plt.show()"
      ],
      "execution_count": 51,
      "outputs": [
        {
          "output_type": "display_data",
          "data": {
            "image/png": "[encoded data removed]",
            "text/plain": [
              "<Figure size 432x288 with 10 Axes>"
            ]
          },
          "metadata": {
            "tags": []
          }
        }
      ]
    },
    {
      "cell_type": "code",
      "metadata": {
        "id": "6bqdpVNUOnMq",
        "colab_type": "code",
        "colab": {
          "base_uri": "https://localhost:8080/",
          "height": 52
        },
        "outputId": "18cdb304-efc9-4b3c-b48b-8114cc8519fa"
      },
      "source": [
        "grader.submit_hallucinating(sess, sampled_im_mean)"
      ],
      "execution_count": 52,
      "outputs": [
        {
          "output_type": "stream",
          "text": [
            "Current answer for task 4.1 (hallucinating mean) is: 0.10642469\n",
            "Current answer for task 4.2 (hallucinating var) is: 0.17262948\n"
          ],
          "name": "stdout"
        }
      ]
    },
    {
      "cell_type": "markdown",
      "metadata": {
        "id": "VMuhWEYBOnMt",
        "colab_type": "text"
      },
      "source": [
        "# Conditional VAE"
      ]
    },
    {
      "cell_type": "markdown",
      "metadata": {
        "id": "ly1YYFktOnMu",
        "colab_type": "text"
      },
      "source": [
        "In the final task, you will modify your code to obtain Conditional Variational Autoencoder [1]. The idea is very simple: to be able to control the samples you generate, we condition all the distributions on some additional information. In our case, this additional information will be the class label (the digit on the image, from 0 to 9).\n",
        "\n",
        "![](https://github.com/hse-aml/bayesian-methods-for-ml/blob/master/week5/CVAE.png?raw=1)\n",
        "\n",
        "So now both the likelihood and the variational distributions are conditioned on the class label: $p(x \\mid t, \\text{label}, w)$, $q(t \\mid x, \\text{label}, \\phi)$.\n",
        "\n",
        "The only thing you have to change in your code is to concatenate input image $x$ with (one-hot) label of this image to pass into the encoder $q$ and to concatenate latent code $t$ with the same label to pass into the decoder $p$. Note that it's slightly harder to do with convolutional encoder/decoder model.\n",
        "\n",
        "[1] Sohn, Kihyuk, Honglak Lee, and Xinchen Yan. “Learning Structured Output Representation using Deep Conditional Generative Models.” Advances in Neural Information Processing Systems. 2015."
      ]
    },
    {
      "cell_type": "markdown",
      "metadata": {
        "id": "o6nvfNt0OnMv",
        "colab_type": "text"
      },
      "source": [
        "## Final task"
      ]
    },
    {
      "cell_type": "markdown",
      "metadata": {
        "id": "Tbk2ICH-OnMw",
        "colab_type": "text"
      },
      "source": [
        "**Task 5.1** Implement CVAE model. You may reuse ```create_encoder``` and ```create_decoder``` modules defined previously (now you can see why they accept the input size as an argument ;) ). You may also need `concatenate` Keras layer to concatenate labels with input data and latent code.\n",
        "\n",
        "To finish this task, you should go to `Conditionally hallucinate data` section and find there Task 5.2"
      ]
    },
    {
      "cell_type": "code",
      "metadata": {
        "id": "BxgJjuAhOnMw",
        "colab_type": "code",
        "colab": {}
      },
      "source": [
        "# One-hot labels placeholder.\n",
        "x = Input(batch_shape=(batch_size, original_dim))\n",
        "label = Input(batch_shape=(batch_size, 10))\n",
        "\n",
        "# YOUR CODE HERE.\n",
        "encoder= create_encoder(original_dim + 10)\n",
        "encoder_and_h= encoder(concatenate([x, label]))\n",
        "\n",
        "cond_t_mean = get_t_mean(encoder_and_h) # Mean of the latent code (without label) for cvae model.\n",
        "cond_t_log_var = get_t_log_var(encoder_and_h)# Logarithm of the variance of the latent code (without label) for cvae model.\n",
        "\n",
        "t = Lambda(sampling)([cond_t_mean, cond_t_log_var])\n",
        "decoder= create_decoder(latent_dim + 10)\n",
        "\n",
        "cond_x_decoded_mean = decoder(concatenate([t, label])) # Final output of the cvae model."
      ],
      "execution_count": 0,
      "outputs": []
    },
    {
      "cell_type": "markdown",
      "metadata": {
        "id": "I49rDcnrOnMy",
        "colab_type": "text"
      },
      "source": [
        "## Define the loss and the model"
      ]
    },
    {
      "cell_type": "code",
      "metadata": {
        "id": "Y1NvnF9yOnMz",
        "colab_type": "code",
        "colab": {}
      },
      "source": [
        "conditional_loss = vlb_binomial(x, cond_x_decoded_mean, cond_t_mean, cond_t_log_var)\n",
        "cvae = Model([x, label], cond_x_decoded_mean)\n",
        "cvae.compile(optimizer=keras.optimizers.RMSprop(lr=0.001), loss=lambda x, y: conditional_loss)"
      ],
      "execution_count": 0,
      "outputs": []
    },
    {
      "cell_type": "markdown",
      "metadata": {
        "id": "S9Jy93oNOnM0",
        "colab_type": "text"
      },
      "source": [
        "### Train the model"
      ]
    },
    {
      "cell_type": "code",
      "metadata": {
        "id": "Hz9X7fVNOnM0",
        "colab_type": "code",
        "colab": {
          "base_uri": "https://localhost:8080/",
          "height": 1000
        },
        "outputId": "c7c44eeb-8299-46e8-a368-95f1fe0ee326"
      },
      "source": [
        "hist = cvae.fit(x=[x_train, y_train],\n",
        "                y=x_train,\n",
        "                shuffle=True,\n",
        "                epochs=epochs,\n",
        "                batch_size=batch_size,\n",
        "                validation_data=([x_test, y_test], x_test),\n",
        "                verbose=2)"
      ],
      "execution_count": 55,
      "outputs": [
        {
          "output_type": "stream",
          "text": [
            "Train on 60000 samples, validate on 10000 samples\n",
            "Epoch 1/30\n",
            " - 3s - loss: 159.0755 - val_loss: 131.5132\n",
            "Epoch 2/30\n",
            " - 2s - loss: 125.9067 - val_loss: 118.6628\n",
            "Epoch 3/30\n",
            " - 2s - loss: 117.1870 - val_loss: 114.3061\n",
            "Epoch 4/30\n",
            " - 2s - loss: 112.6268 - val_loss: 110.0190\n",
            "Epoch 5/30\n",
            " - 2s - loss: 110.0668 - val_loss: 108.6667\n",
            "Epoch 6/30\n",
            " - 2s - loss: 108.3961 - val_loss: 107.6562\n",
            "Epoch 7/30\n",
            " - 2s - loss: 107.1293 - val_loss: 106.6356\n",
            "Epoch 8/30\n",
            " - 2s - loss: 106.3248 - val_loss: 105.6816\n",
            "Epoch 9/30\n",
            " - 2s - loss: 105.5792 - val_loss: 104.6579\n",
            "Epoch 10/30\n",
            " - 2s - loss: 105.0384 - val_loss: 103.7398\n",
            "Epoch 11/30\n",
            " - 2s - loss: 104.5543 - val_loss: 103.9164\n",
            "Epoch 12/30\n",
            " - 2s - loss: 104.1784 - val_loss: 103.5755\n",
            "Epoch 13/30\n",
            " - 2s - loss: 103.8159 - val_loss: 102.8292\n",
            "Epoch 14/30\n",
            " - 2s - loss: 103.5687 - val_loss: 103.3112\n",
            "Epoch 15/30\n",
            " - 2s - loss: 103.3306 - val_loss: 102.5126\n",
            "Epoch 16/30\n",
            " - 2s - loss: 103.0612 - val_loss: 102.8590\n",
            "Epoch 17/30\n",
            " - 2s - loss: 102.8536 - val_loss: 102.1637\n",
            "Epoch 18/30\n",
            " - 2s - loss: 102.6320 - val_loss: 101.8283\n",
            "Epoch 19/30\n",
            " - 2s - loss: 102.5077 - val_loss: 102.4969\n",
            "Epoch 20/30\n",
            " - 2s - loss: 102.3252 - val_loss: 102.1914\n",
            "Epoch 21/30\n",
            " - 2s - loss: 102.1673 - val_loss: 101.3213\n",
            "Epoch 22/30\n",
            " - 2s - loss: 102.0381 - val_loss: 102.3339\n",
            "Epoch 23/30\n",
            " - 2s - loss: 101.8975 - val_loss: 101.8339\n",
            "Epoch 24/30\n",
            " - 2s - loss: 101.8020 - val_loss: 101.2630\n",
            "Epoch 25/30\n",
            " - 2s - loss: 101.7163 - val_loss: 101.1070\n",
            "Epoch 26/30\n",
            " - 2s - loss: 101.5843 - val_loss: 101.4399\n",
            "Epoch 27/30\n",
            " - 2s - loss: 101.4884 - val_loss: 101.2303\n",
            "Epoch 28/30\n",
            " - 2s - loss: 101.3761 - val_loss: 100.8914\n",
            "Epoch 29/30\n",
            " - 2s - loss: 101.2813 - val_loss: 100.5922\n",
            "Epoch 30/30\n",
            " - 2s - loss: 101.2345 - val_loss: 100.6053\n"
          ],
          "name": "stdout"
        }
      ]
    },
    {
      "cell_type": "markdown",
      "metadata": {
        "id": "vweB4rkDOnM5",
        "colab_type": "text"
      },
      "source": [
        "### Visualize reconstructions for train and validation data"
      ]
    },
    {
      "cell_type": "code",
      "metadata": {
        "id": "c2KreOnWOnM6",
        "colab_type": "code",
        "colab": {
          "base_uri": "https://localhost:8080/",
          "height": 591
        },
        "outputId": "8b3f4681-09bc-4a19-c7b7-4ec84bb66e28"
      },
      "source": [
        "fig = plt.figure(figsize=(10, 10))\n",
        "for fid_idx, (x_data, y_data, title) in enumerate(\n",
        "            zip([x_train, x_test], [y_train, y_test], ['Train', 'Validation'])):\n",
        "    n = 10  # figure with 10 x 2 digits\n",
        "    digit_size = 28\n",
        "    figure = np.zeros((digit_size * n, digit_size * 2))\n",
        "    decoded = sess.run(cond_x_decoded_mean,\n",
        "                       feed_dict={x: x_data[:batch_size, :],\n",
        "                                  label: y_data[:batch_size, :]})\n",
        "    for i in range(10):\n",
        "        figure[i * digit_size: (i + 1) * digit_size,\n",
        "               :digit_size] = x_data[i, :].reshape(digit_size, digit_size)\n",
        "        figure[i * digit_size: (i + 1) * digit_size,\n",
        "               digit_size:] = decoded[i, :].reshape(digit_size, digit_size)\n",
        "    ax = fig.add_subplot(1, 2, fid_idx + 1)\n",
        "    ax.imshow(figure, cmap='Greys_r')\n",
        "    ax.set_title(title)\n",
        "    ax.axis('off')\n",
        "plt.show()"
      ],
      "execution_count": 56,
      "outputs": [
        {
          "output_type": "display_data",
          "data": {
            "image/png": "[encoded data removed]",
            "text/plain": [
              "<Figure size 720x720 with 2 Axes>"
            ]
          },
          "metadata": {
            "tags": []
          }
        }
      ]
    },
    {
      "cell_type": "markdown",
      "metadata": {
        "id": "qYZ0_FiQOnM8",
        "colab_type": "text"
      },
      "source": [
        "## Conditionally hallucinate data\n",
        "**Task 5.2** Implement the conditional sampling from the distribution $p(x \\mid t, \\text{label})$ by firstly sampling from the prior $p(t)$ and then sampling from the likelihood $p(x \\mid t, \\text{label})$."
      ]
    },
    {
      "cell_type": "code",
      "metadata": {
        "id": "5f6pIbveOnM-",
        "colab_type": "code",
        "colab": {}
      },
      "source": [
        "# Prepare one hot labels of form\n",
        "#   0 0 0 0 0 1 1 1 1 1 2 2 2 2 2 ...\n",
        "# to sample five zeros, five ones, etc\n",
        "curr_labels = np.eye(10)\n",
        "curr_labels = np.repeat(curr_labels, 5, axis=0)  # Its shape is 50 x 10.\n",
        "# YOUR CODE HERE.\n",
        "labels_of_tensor = tf.convert_to_tensor(curr_labels, dtype=tf.float32)\n",
        "z=tf.random_normal((50, latent_dim))\n",
        "# cond_sampled_im_mean is a tf.Tensor of size 50 x 784 with 5 random zeros,\n",
        "# then 5 random ones, etc sampled from the cvae model.\n",
        "cond_sampled_im_mean = decoder(concatenate([z, labels_of_tensor]))"
      ],
      "execution_count": 0,
      "outputs": []
    },
    {
      "cell_type": "code",
      "metadata": {
        "id": "S9DKAL2xOnNA",
        "colab_type": "code",
        "colab": {
          "base_uri": "https://localhost:8080/",
          "height": 574
        },
        "outputId": "905bd0d1-878c-41f5-e157-09ba5761a4b4"
      },
      "source": [
        "cond_sampled_im_mean_np = sess.run(cond_sampled_im_mean)\n",
        "# Show the sampled images.\n",
        "plt.figure(figsize=(10, 10))\n",
        "global_idx = 0\n",
        "for digit in range(10):\n",
        "    for _ in range(5):\n",
        "        ax = plt.subplot(10, 5, global_idx + 1)\n",
        "        plt.imshow(cond_sampled_im_mean_np[global_idx, :].reshape(28, 28), cmap='gray')\n",
        "        ax.axis('off')\n",
        "        global_idx += 1\n",
        "plt.show()"
      ],
      "execution_count": 58,
      "outputs": [
        {
          "output_type": "display_data",
          "data": {
            "image/png": "[encoded data removed]",
            "text/plain": [
              "<Figure size 720x720 with 50 Axes>"
            ]
          },
          "metadata": {
            "tags": []
          }
        }
      ]
    },
    {
      "cell_type": "code",
      "metadata": {
        "id": "qyz9NleMOnNC",
        "colab_type": "code",
        "colab": {
          "base_uri": "https://localhost:8080/",
          "height": 52
        },
        "outputId": "910dee53-4975-4645-8d4a-f0ed02baf738"
      },
      "source": [
        "# Submit Task 5 (both 5.1 and 5.2).\n",
        "grader.submit_conditional_hallucinating(sess, cond_sampled_im_mean)"
      ],
      "execution_count": 59,
      "outputs": [
        {
          "output_type": "stream",
          "text": [
            "Current answer for task 5.1 (conditional hallucinating mean) is: 0.09464517365209255\n",
            "Current answer for task 5.2 (conditional hallucinating var) is: 0.04898563058695337\n"
          ],
          "name": "stdout"
        }
      ]
    },
    {
      "cell_type": "markdown",
      "metadata": {
        "id": "zMoVsQogOnNF",
        "colab_type": "text"
      },
      "source": [
        "# Authorization & Submission\n",
        "To submit assignment parts to Cousera platform, please, enter your e-mail and token into variables below. You can generate a token on this programming assignment's page. <b>Note:</b> The token expires 30 minutes after generation."
      ]
    },
    {
      "cell_type": "code",
      "metadata": {
        "id": "Pz5iFHZoOnNG",
        "colab_type": "code",
        "colab": {
          "base_uri": "https://localhost:8080/",
          "height": 175
        },
        "outputId": "f46b382c-26e7-4b41-8ae3-ad5adb951cab"
      },
      "source": [
        "STUDENT_EMAIL = 'maikol.cerdaz@gmail.com' # EMAIL HERE\n",
        "STUDENT_TOKEN =  'rUrzvaY5HNRgQ5L1'# TOKEN HERE\n",
        "grader.status()"
      ],
      "execution_count": 60,
      "outputs": [
        {
          "output_type": "stream",
          "text": [
            "You want to submit these numbers:\n",
            "Task 1 (vlb): 157.59676\n",
            "Task 2.1 (samples mean): -0.1218433\n",
            "Task 2.2 (samples var): 0.03733801\n",
            "Task 3 (best val loss): 104.89932495117188\n",
            "Task 4.1 (hallucinating mean): 0.10642469\n",
            "Task 4.2 (hallucinating var): 0.17262948\n",
            "Task 5.1 (conditional hallucinating mean): 0.09464517365209255\n",
            "Task 5.2 (conditional hallucinating var): 0.04898563058695337\n"
          ],
          "name": "stdout"
        }
      ]
    },
    {
      "cell_type": "code",
      "metadata": {
        "id": "dPjLc1JpOnNL",
        "colab_type": "code",
        "colab": {
          "base_uri": "https://localhost:8080/",
          "height": 34
        },
        "outputId": "95ee95ae-a3e8-4fbf-c5ea-2fba67151a60"
      },
      "source": [
        "grader.submit(STUDENT_EMAIL, STUDENT_TOKEN)"
      ],
      "execution_count": 61,
      "outputs": [
        {
          "output_type": "stream",
          "text": [
            "Submitted to Coursera platform. See results on assignment page!\n"
          ],
          "name": "stdout"
        }
      ]
    },
    {
      "cell_type": "markdown",
      "metadata": {
        "id": "0GPFxR6cOnNV",
        "colab_type": "text"
      },
      "source": [
        "# Playtime (UNGRADED)\n",
        "Once you passed all the tests, modify the code above to work with the mixture of Gaussian distributions (in contrast to the mixture of Binomial distributions), and redo the experiments with CIFAR-10 dataset, which are full-color natural images with much more diverse structure."
      ]
    },
    {
      "cell_type": "code",
      "metadata": {
        "id": "W-Gv4MoqOnNW",
        "colab_type": "code",
        "colab": {}
      },
      "source": [
        "from keras.datasets import cifar10\n",
        "(x_train, y_train), (x_test, y_test) = cifar10.load_data()"
      ],
      "execution_count": 0,
      "outputs": []
    },
    {
      "cell_type": "code",
      "metadata": {
        "id": "YlMJkjGcOnNa",
        "colab_type": "code",
        "colab": {
          "base_uri": "https://localhost:8080/",
          "height": 266
        },
        "outputId": "90033010-f61b-4003-e2d0-ddf18121092f"
      },
      "source": [
        "plt.imshow(x_train[7, :])\n",
        "plt.show()"
      ],
      "execution_count": 63,
      "outputs": [
        {
          "output_type": "display_data",
          "data": {
            "image/png": "[encoded data removed]",
            "text/plain": [
              "<Figure size 432x288 with 1 Axes>"
            ]
          },
          "metadata": {
            "tags": []
          }
        }
      ]
    },
    {
      "cell_type": "code",
      "metadata": {
        "id": "q98v82S7OnNd",
        "colab_type": "code",
        "colab": {}
      },
      "source": [
        ""
      ],
      "execution_count": 0,
      "outputs": []
    }
  ]
}